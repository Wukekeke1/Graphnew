{
 "cells": [
  {
   "cell_type": "code",
   "execution_count": 1,
   "metadata": {
    "collapsed": true
   },
   "outputs": [],
   "source": [
    "import json\n",
    "import os\n",
    "from glob import glob\n",
    "import random\n",
    "random.seed(1)"
   ]
  },
  {
   "cell_type": "code",
   "execution_count": 2,
   "metadata": {
    "collapsed": true
   },
   "outputs": [],
   "source": [
    "train_test_split = 0.6\n",
    "cate_folder = glob(\"./*/\")\n",
    "files = []\n",
    "for cate in cate_folder:\n",
    "    filename = os.listdir(cate)\n",
    "    \n",
    "    for file in filename:\n",
    "        if file.split('.')[-1] == 'txt':\n",
    "            files.append(os.path.join(cate, file))\n",
    "num_train = int(len(files) * train_test_split)\n",
    "random.shuffle(files)\n",
    "train_files = files[:num_train]\n",
    "test_files = files[num_train:]"
   ]
  },
  {
   "cell_type": "code",
   "execution_count": 3,
   "metadata": {
    "collapsed": true
   },
   "outputs": [],
   "source": [
    "with open('train_files.txt', 'w') as outfile:\n",
    "    json.dump(train_files, outfile)"
   ]
  },
  {
   "cell_type": "code",
   "execution_count": 4,
   "metadata": {
    "collapsed": true
   },
   "outputs": [],
   "source": [
    "with open('test_files.txt', 'w') as outfile:\n",
    "    json.dump(test_files, outfile)"
   ]
  },
  {
   "cell_type": "code",
   "execution_count": null,
   "metadata": {
    "collapsed": true
   },
   "outputs": [],
   "source": []
  }
 ],
 "metadata": {
  "kernelspec": {
   "display_name": "tensorflow3.6",
   "language": "python",
   "name": "tensorflow3.6"
  },
  "language_info": {
   "codemirror_mode": {
    "name": "ipython",
    "version": 3
   },
   "file_extension": ".py",
   "mimetype": "text/x-python",
   "name": "python",
   "nbconvert_exporter": "python",
   "pygments_lexer": "ipython3",
   "version": "3.6.8"
  }
 },
 "nbformat": 4,
 "nbformat_minor": 2
}
